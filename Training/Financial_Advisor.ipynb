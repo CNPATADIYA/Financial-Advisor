{
  "cells": [
    {
      "cell_type": "code",
      "execution_count": null,
      "metadata": {
        "id": "w1mUZaxzY6NK"
      },
      "outputs": [],
      "source": [
        "from langchain.document_loaders import PyPDFLoader\n",
        "from langchain.text_splitter import RecursiveCharacterTextSplitter\n",
        "from langchain.chains import RetrievalQAWithSourcesChain\n",
        "from langchain import OpenAI"
      ]
    },
    {
      "cell_type": "code",
      "execution_count": null,
      "metadata": {
        "colab": {
          "base_uri": "https://localhost:8080/"
        },
        "id": "9ZQhMi48ZJxU",
        "outputId": "31787e23-05ef-4fa1-ed75-d6bb0639b6e2"
      },
      "outputs": [
        {
          "name": "stdout",
          "output_type": "stream",
          "text": [
            "OpenAI API Key:··········\n"
          ]
        }
      ],
      "source": [
        "from langchain.vectorstores import FAISS\n",
        "from langchain.embeddings.openai import OpenAIEmbeddings\n",
        "import os\n",
        "import getpass\n",
        "import pickle\n",
        "import time\n",
        "\n",
        "os.environ['OPENAI_API_KEY'] = getpass.getpass('OpenAI API Key:')"
      ]
    },
    {
      "cell_type": "code",
      "execution_count": null,
      "metadata": {
        "id": "-90bj3Axg5gO"
      },
      "outputs": [],
      "source": [
        "text_splitter = RecursiveCharacterTextSplitter(\n",
        "    separators=['\\n\\n', '\\n', '.', ','],\n",
        "    chunk_size=1000\n",
        ")"
      ]
    },
    {
      "cell_type": "code",
      "execution_count": null,
      "metadata": {
        "colab": {
          "base_uri": "https://localhost:8080/"
        },
        "id": "CO53zah-coTj",
        "outputId": "9f839c91-9650-4311-d56b-80e6160026ec"
      },
      "outputs": [
        {
          "data": {
            "text/plain": [
              "['Financial Planning & Analysis and Performance Management.pdf',\n",
              " 'Personal Financial Planning - GRAD - 2021 August.pdf',\n",
              " 'technical-analysis-and-stock-market-profits.pdf',\n",
              " 'hand_book.pdf',\n",
              " '13022023_150309_102120474.pdf',\n",
              " 'L-G-0014439947-0045930201.pdf',\n",
              " 'Personal Financial Planning Guide.pdf',\n",
              " 'TA_wrkbk.pdf',\n",
              " 'echap01.pdf']"
            ]
          },
          "execution_count": 7,
          "metadata": {},
          "output_type": "execute_result"
        }
      ],
      "source": [
        "data_pdfs = os.listdir()[1:-1]\n",
        "data_pdfs"
      ]
    },
    {
      "cell_type": "code",
      "execution_count": null,
      "metadata": {
        "id": "k9W4i_LHcxhd"
      },
      "outputs": [],
      "source": [
        "all_pages = []\n",
        "\n",
        "for x in data_pdfs:\n",
        "  loader = PyPDFLoader(x)\n",
        "  pages = loader.load_and_split()\n",
        "  all_pages = all_pages + pages"
      ]
    },
    {
      "cell_type": "code",
      "execution_count": null,
      "metadata": {
        "id": "YtI2sUuueycF"
      },
      "outputs": [],
      "source": [
        "docs = []\n",
        "for x in all_pages:\n",
        "  doc = text_splitter.split_documents([x])\n",
        "  docs = docs + doc"
      ]
    },
    {
      "cell_type": "code",
      "execution_count": null,
      "metadata": {
        "colab": {
          "base_uri": "https://localhost:8080/"
        },
        "id": "0QwGK5AgfYuC",
        "outputId": "9d17e393-a90f-4e81-eebe-25d4879fbef8"
      },
      "outputs": [
        {
          "data": {
            "text/plain": [
              "5678"
            ]
          },
          "execution_count": 24,
          "metadata": {},
          "output_type": "execute_result"
        }
      ],
      "source": [
        "len(docs)"
      ]
    },
    {
      "cell_type": "code",
      "execution_count": null,
      "metadata": {
        "colab": {
          "base_uri": "https://localhost:8080/"
        },
        "id": "mmm49XKJgyVs",
        "outputId": "f4d7420a-fa77-427e-cbf9-04ac161a2100"
      },
      "outputs": [
        {
          "data": {
            "text/plain": [
              "2184"
            ]
          },
          "execution_count": 13,
          "metadata": {},
          "output_type": "execute_result"
        }
      ],
      "source": [
        "len(all_pages)"
      ]
    },
    {
      "cell_type": "code",
      "execution_count": null,
      "metadata": {
        "id": "h3Y6K18mOA6H"
      },
      "outputs": [],
      "source": [
        "embeddings = OpenAIEmbeddings()"
      ]
    },
    {
      "cell_type": "code",
      "execution_count": null,
      "metadata": {
        "id": "gSVWDkMWOloF"
      },
      "outputs": [],
      "source": [
        "objPKL = []\n",
        "i = 100\n",
        "while i<=5600:\n",
        "    vectorstore_openai = FAISS.from_documents(docs[i-100:i], embeddings)\n",
        "    # with open('embeddings.pkl', \"wb\") as f:\n",
        "    #   pickle.dump(vectorstore_openai, f)\n",
        "    objPKL.append(vectorstore_openai)\n",
        "    i = i+100\n",
        "    time.sleep(20)"
      ]
    },
    {
      "cell_type": "code",
      "execution_count": null,
      "metadata": {
        "id": "lVwiPaw8Rd3E"
      },
      "outputs": [],
      "source": [
        "for x in objPKL[1:]:\n",
        "  with open('embeddings.pkl', \"ab\") as f:\n",
        "    pickle.dump(x.serialize_to_bytes(), f)"
      ]
    },
    {
      "cell_type": "code",
      "execution_count": null,
      "metadata": {
        "id": "J-ycnpzDY_Pb"
      },
      "outputs": [],
      "source": [
        "pkl = objPKL[0].serialize_to_bytes()"
      ]
    },
    {
      "cell_type": "code",
      "execution_count": null,
      "metadata": {
        "id": "hzx319P8as4y"
      },
      "outputs": [],
      "source": [
        "with open('embeddings.pkl', \"wb\") as f:\n",
        "  pickle.dump(pkl, f)"
      ]
    },
    {
      "cell_type": "code",
      "execution_count": null,
      "metadata": {
        "id": "3vsPQ9kwawoO"
      },
      "outputs": [],
      "source": [
        "db = FAISS.deserialize_from_bytes(\n",
        "    embeddings=embeddings, serialized=pkl\n",
        ")  # Lo"
      ]
    },
    {
      "cell_type": "code",
      "execution_count": null,
      "metadata": {
        "id": "JTGa-3UTdPUE"
      },
      "outputs": [],
      "source": [
        "with open('embeddings.pkl', \"rb\") as f:\n",
        "  vectorstore = pickle.load(f)"
      ]
    },
    {
      "cell_type": "code",
      "execution_count": null,
      "metadata": {
        "id": "nQVFGWLHeOff"
      },
      "outputs": [],
      "source": [
        "vectorstore = FAISS.deserialize_from_bytes(\n",
        "    embeddings=embeddings, serialized=vectorstore\n",
        ")"
      ]
    },
    {
      "cell_type": "code",
      "execution_count": null,
      "metadata": {
        "id": "fu2HOS8nfFGp"
      },
      "outputs": [],
      "source": [
        "llm = OpenAI(temperature=0.9, max_tokens=500)"
      ]
    },
    {
      "cell_type": "code",
      "execution_count": null,
      "metadata": {
        "id": "BvA7pRC0eSlY"
      },
      "outputs": [],
      "source": [
        "chain = RetrievalQAWithSourcesChain.from_llm(llm=llm, retriever=vectorstore.as_retriever())"
      ]
    },
    {
      "cell_type": "code",
      "execution_count": null,
      "metadata": {
        "id": "MFRZKCw_efHd"
      },
      "outputs": [],
      "source": [
        "result = chain({\"question\": \"where can i invest money\"}, return_only_outputs=True)"
      ]
    },
    {
      "cell_type": "code",
      "execution_count": null,
      "metadata": {
        "colab": {
          "base_uri": "https://localhost:8080/",
          "height": 36
        },
        "id": "ZTwgBD2vUTU6",
        "outputId": "b1cd9fd4-c1bd-4bc8-c118-f4f3b3ed2dd0"
      },
      "outputs": [
        {
          "data": {
            "application/vnd.google.colaboratory.intrinsic+json": {
              "type": "string"
            },
            "text/plain": [
              "'\\nInvestment options can be found at www.WileyFinance.com.\\n'"
            ]
          },
          "execution_count": 27,
          "metadata": {},
          "output_type": "execute_result"
        }
      ],
      "source": [
        "result[\"answer\"]"
      ]
    },
    {
      "cell_type": "code",
      "execution_count": null,
      "metadata": {
        "id": "1tIPdn1KUec-"
      },
      "outputs": [],
      "source": []
    }
  ],
  "metadata": {
    "colab": {
      "provenance": []
    },
    "kernelspec": {
      "display_name": "Python 3",
      "name": "python3"
    },
    "language_info": {
      "name": "python"
    }
  },
  "nbformat": 4,
  "nbformat_minor": 0
}
